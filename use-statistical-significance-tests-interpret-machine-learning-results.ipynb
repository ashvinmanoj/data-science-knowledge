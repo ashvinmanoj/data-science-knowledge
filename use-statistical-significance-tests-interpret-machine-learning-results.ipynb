{
 "cells": [
  {
   "cell_type": "markdown",
   "metadata": {},
   "source": [
    "# How to Use Statistical Significance Tests to Interpret Machine Learning Results"
   ]
  },
  {
   "cell_type": "code",
   "execution_count": 5,
   "metadata": {
    "ExecuteTime": {
     "end_time": "2018-07-03T03:39:00.017529Z",
     "start_time": "2018-07-03T03:38:59.177535Z"
    }
   },
   "outputs": [
    {
     "name": "stdout",
     "output_type": "stream",
     "text": [
      "Tue Jul 03 2018 \n",
      "\n",
      "CPython 3.6.5\n",
      "IPython 6.4.0\n",
      "\n",
      "numpy 1.14.5\n",
      "scipy 1.1.0\n",
      "sklearn 0.19.1\n",
      "pandas 0.23.1\n",
      "xgboost 0.72\n",
      "\n",
      "compiler   : GCC 4.2.1 Compatible Apple LLVM 9.1.0 (clang-902.0.39.1)\n",
      "system     : Darwin\n",
      "release    : 17.6.0\n",
      "machine    : x86_64\n",
      "processor  : i386\n",
      "CPU cores  : 8\n",
      "interpreter: 64bit\n"
     ]
    }
   ],
   "source": [
    "%matplotlib inline\n",
    "%load_ext watermark\n",
    "%watermark -v -n -m -p numpy,scipy,sklearn,pandas,xgboost"
   ]
  },
  {
   "cell_type": "code",
   "execution_count": 1,
   "metadata": {
    "ExecuteTime": {
     "end_time": "2018-07-03T03:37:23.128369Z",
     "start_time": "2018-07-03T03:37:22.827283Z"
    }
   },
   "outputs": [],
   "source": [
    "from numpy.random import seed\n",
    "from numpy.random import normal\n",
    "from numpy import savetxt\n",
    "# define underlying distribution of results\n",
    "mean = 50\n",
    "stev = 10\n",
    "# generate samples from ideal distribution\n",
    "seed(1)\n",
    "results = normal(mean, stev, 1000)\n",
    "# save to ASCII file\n",
    "savetxt('data/results1.csv', results)"
   ]
  },
  {
   "cell_type": "code",
   "execution_count": 3,
   "metadata": {
    "ExecuteTime": {
     "end_time": "2018-07-03T03:37:44.309695Z",
     "start_time": "2018-07-03T03:37:44.301336Z"
    }
   },
   "outputs": [],
   "source": [
    "# define underlying distribution of results\n",
    "mean = 60\n",
    "stev = 10\n",
    "# generate samples from ideal distribution\n",
    "seed(1)\n",
    "results = normal(mean, stev, 1000)\n",
    "# save to ASCII file\n",
    "savetxt('data/results2.csv', results)"
   ]
  },
  {
   "cell_type": "code",
   "execution_count": 6,
   "metadata": {
    "ExecuteTime": {
     "end_time": "2018-07-03T03:39:02.382749Z",
     "start_time": "2018-07-03T03:39:01.933814Z"
    }
   },
   "outputs": [
    {
     "name": "stdout",
     "output_type": "stream",
     "text": [
      "                 A            B\n",
      "count  1000.000000  1000.000000\n",
      "mean     50.388125    60.388125\n",
      "std       9.814950     9.814950\n",
      "min      19.462356    29.462356\n",
      "25%      43.998396    53.998396\n",
      "50%      50.412926    60.412926\n",
      "75%      57.039989    67.039989\n",
      "max      89.586027    99.586027\n"
     ]
    },
    {
     "data": {
      "image/png": "[encoded data removed]",
      "text/plain": [
       "<Figure size 432x288 with 1 Axes>"
      ]
     },
     "metadata": {},
     "output_type": "display_data"
    },
    {
     "data": {
      "image/png": "[encoded data removed]",
      "text/plain": [
       "<Figure size 432x288 with 2 Axes>"
      ]
     },
     "metadata": {},
     "output_type": "display_data"
    }
   ],
   "source": [
    "import pandas as pd\n",
    "from matplotlib import pyplot\n",
    "# load results file\n",
    "results = pd.DataFrame()\n",
    "results['A'] = pd.read_csv('data/results1.csv', header=None).values[:, 0]\n",
    "results['B'] = pd.read_csv('data/results2.csv', header=None).values[:, 0]\n",
    "# descriptive stats\n",
    "print(results.describe())\n",
    "# box and whisker plot\n",
    "results.boxplot()\n",
    "pyplot.show()\n",
    "# histogram\n",
    "results.hist()\n",
    "pyplot.show()"
   ]
  },
  {
   "cell_type": "markdown",
   "metadata": {},
   "source": [
    "## Normality Test"
   ]
  },
  {
   "cell_type": "code",
   "execution_count": 9,
   "metadata": {
    "ExecuteTime": {
     "end_time": "2018-07-03T03:40:50.316227Z",
     "start_time": "2018-07-03T03:40:50.305479Z"
    }
   },
   "outputs": [
    {
     "name": "stdout",
     "output_type": "stream",
     "text": [
      "2.9901307811630056 0.22423394146329587\n",
      "It is likely that result1 is normal\n"
     ]
    }
   ],
   "source": [
    "import pandas as pd\n",
    "from scipy.stats import normaltest\n",
    "from matplotlib import pyplot\n",
    "result1 = pd.read_csv('data/results1.csv', header=None)\n",
    "value, p = normaltest(result1.values[:,0])\n",
    "print(value, p)\n",
    "if p >= 0.05:\n",
    "    print('It is likely that result1 is normal')\n",
    "else:\n",
    "    print('It is unlikely that result1 is normal')"
   ]
  },
  {
   "cell_type": "code",
   "execution_count": 10,
   "metadata": {
    "ExecuteTime": {
     "end_time": "2018-07-03T03:41:13.643766Z",
     "start_time": "2018-07-03T03:41:13.633838Z"
    }
   },
   "outputs": [
    {
     "name": "stdout",
     "output_type": "stream",
     "text": [
      "2.9901307811630233 0.2242339414632938\n",
      "It is likely that result2 is normal\n"
     ]
    }
   ],
   "source": [
    "from scipy.stats import normaltest\n",
    "from matplotlib import pyplot\n",
    "result2 = pd.read_csv('data/results2.csv', header=None)\n",
    "value, p = normaltest(result2.values[:,0])\n",
    "print(value, p)\n",
    "if p >= 0.05:\n",
    "    print('It is likely that result2 is normal')\n",
    "else:\n",
    "    print('It is unlikely that result2 is normal')"
   ]
  },
  {
   "cell_type": "markdown",
   "metadata": {},
   "source": [
    "## Compare Means for Gaussian Results with Equal Variance"
   ]
  },
  {
   "cell_type": "code",
   "execution_count": 12,
   "metadata": {
    "ExecuteTime": {
     "end_time": "2018-07-03T03:41:51.386318Z",
     "start_time": "2018-07-03T03:41:51.371251Z"
    }
   },
   "outputs": [
    {
     "name": "stdout",
     "output_type": "stream",
     "text": [
      "-22.78226550283975 2.5159901708040968e-102\n",
      "Samples are likely drawn from different distributions (reject H0)\n"
     ]
    }
   ],
   "source": [
    "from pandas import read_csv\n",
    "from scipy.stats import ttest_ind\n",
    "from matplotlib import pyplot\n",
    "# load results1\n",
    "result1 = read_csv('data/results1.csv', header=None)\n",
    "values1 = result1.values[:,0]\n",
    "# load results2\n",
    "result2 = read_csv('data/results2.csv', header=None)\n",
    "values2 = result2.values[:,0]\n",
    "# calculate the significance\n",
    "value, pvalue = ttest_ind(values1, values2, equal_var=True)\n",
    "print(value, pvalue)\n",
    "if pvalue > 0.05:\n",
    "    print('Samples are likely drawn from the same distributions (fail to reject H0)')\n",
    "else:\n",
    "    print('Samples are likely drawn from different distributions (reject H0)')"
   ]
  },
  {
   "cell_type": "markdown",
   "metadata": {},
   "source": [
    "## Compare Means for Gaussian Results with Different Variance"
   ]
  },
  {
   "cell_type": "code",
   "execution_count": 14,
   "metadata": {
    "ExecuteTime": {
     "end_time": "2018-07-03T03:49:50.957100Z",
     "start_time": "2018-07-03T03:49:50.945400Z"
    }
   },
   "outputs": [
    {
     "name": "stdout",
     "output_type": "stream",
     "text": [
      "-2.6223313740555843 0.010087148378339763\n",
      "Samples are likely drawn from different distributions (reject H0)\n"
     ]
    }
   ],
   "source": [
    "from numpy.random import seed\n",
    "from numpy.random import normal\n",
    "from scipy.stats import ttest_ind\n",
    "# generate results\n",
    "seed(1)\n",
    "n = 100\n",
    "values1 = normal(50, 1, n)\n",
    "values2 = normal(51, 10, n)\n",
    "# calculate the significance\n",
    "value, pvalue = ttest_ind(values1, values2, equal_var=False)\n",
    "print(value, pvalue)\n",
    "if pvalue > 0.05:\n",
    "\tprint('Samples are likely drawn from the same distributions (fail to reject H0)')\n",
    "else:\n",
    "\tprint('Samples are likely drawn from different distributions (reject H0)')"
   ]
  },
  {
   "cell_type": "code",
   "execution_count": 15,
   "metadata": {
    "ExecuteTime": {
     "end_time": "2018-07-03T03:51:00.927372Z",
     "start_time": "2018-07-03T03:51:00.741089Z"
    }
   },
   "outputs": [
    {
     "name": "stderr",
     "output_type": "stream",
     "text": [
      "/Users/patornute/.pyenv/versions/3.6.5/envs/latest/lib/python3.6/site-packages/numpy/core/fromnumeric.py:3194: RuntimeWarning: Degrees of freedom <= 0 for slice\n",
      "  **kwargs)\n",
      "/Users/patornute/.pyenv/versions/3.6.5/envs/latest/lib/python3.6/site-packages/numpy/core/_methods.py:127: RuntimeWarning: invalid value encountered in double_scalars\n",
      "  ret = ret.dtype.type(ret / rcount)\n"
     ]
    },
    {
     "data": {
      "image/png": "[encoded data removed]",
      "text/plain": [
       "<Figure size 432x288 with 1 Axes>"
      ]
     },
     "metadata": {},
     "output_type": "display_data"
    }
   ],
   "source": [
    "from numpy.random import seed\n",
    "from numpy.random import normal\n",
    "from scipy.stats import ttest_ind\n",
    "from matplotlib import pyplot\n",
    "# generate results\n",
    "seed(1)\n",
    "n = 100\n",
    "values1 = normal(50, 1, n)\n",
    "values2 = normal(51, 10, n)\n",
    "# calculate p-values for different subsets of results\n",
    "pvalues = list()\n",
    "for i in range(1, n+1):\n",
    "\tvalue, p = ttest_ind(values1[0:i], values2[0:i], equal_var=False)\n",
    "\tpvalues.append(p)\n",
    "# plot p-values vs number of results in sample\n",
    "pyplot.plot(pvalues)\n",
    "# draw line at 95%, below which we reject H0\n",
    "pyplot.plot([0.05 for x in range(len(pvalues))], color='red')\n",
    "pyplot.show()"
   ]
  },
  {
   "cell_type": "markdown",
   "metadata": {},
   "source": [
    "We would expect the p-value to get smaller with the increase sample size. We can also draw a line at the 95% level (0.05) and show at what point the sample size is large enough to indicate these two populations are significantly different."
   ]
  },
  {
   "cell_type": "markdown",
   "metadata": {},
   "source": [
    "## Compare Means for Non-Gaussian Results\n",
    "\n",
    "We cannot use the Student t-test or the Welch’s t-test if our data is not Gaussian.\n",
    "\n",
    "An alternative statistical significance test we can use for non-Gaussian data is called the Kolmogorov-Smirnov test."
   ]
  },
  {
   "cell_type": "code",
   "execution_count": 22,
   "metadata": {
    "ExecuteTime": {
     "end_time": "2018-07-03T03:55:57.345713Z",
     "start_time": "2018-07-03T03:55:56.984080Z"
    }
   },
   "outputs": [
    {
     "name": "stdout",
     "output_type": "stream",
     "text": [
      "0.47 2.1682585673653708e-10\n",
      "Samples are likely drawn from different distributions (reject H0)\n"
     ]
    },
    {
     "data": {
      "image/png": "[encoded data removed]",
      "text/plain": [
       "<Figure size 432x288 with 1 Axes>"
      ]
     },
     "metadata": {},
     "output_type": "display_data"
    },
    {
     "data": {
      "image/png": "[encoded data removed]",
      "text/plain": [
       "<Figure size 432x288 with 1 Axes>"
      ]
     },
     "metadata": {},
     "output_type": "display_data"
    }
   ],
   "source": [
    "from numpy.random import seed\n",
    "from numpy.random import randint\n",
    "from scipy.stats import ks_2samp\n",
    "# generate results\n",
    "seed(1)\n",
    "n = 100\n",
    "values1 = randint(50, 60, n)\n",
    "values2 = randint(55, 65, n)\n",
    "pd.DataFrame(values1).hist()\n",
    "pd.DataFrame(values2).hist()\n",
    "# calculate the significance\n",
    "value, pvalue = ks_2samp(values1, values2)\n",
    "print(value, pvalue)\n",
    "if pvalue > 0.05:\n",
    "\tprint('Samples are likely drawn from the same distributions (fail to reject H0)')\n",
    "else:\n",
    "\tprint('Samples are likely drawn from different distributions (reject H0)')"
   ]
  },
  {
   "cell_type": "code",
   "execution_count": null,
   "metadata": {},
   "outputs": [],
   "source": []
  }
 ],
 "metadata": {
  "kernelspec": {
   "display_name": "Python 3",
   "language": "python",
   "name": "python3"
  },
  "language_info": {
   "codemirror_mode": {
    "name": "ipython",
    "version": 3
   },
   "file_extension": ".py",
   "mimetype": "text/x-python",
   "name": "python",
   "nbconvert_exporter": "python",
   "pygments_lexer": "ipython3",
   "version": "3.6.5"
  }
 },
 "nbformat": 4,
 "nbformat_minor": 2
}
