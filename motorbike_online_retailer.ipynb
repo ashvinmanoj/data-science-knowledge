{
 "cells": [
  {
   "cell_type": "markdown",
   "metadata": {},
   "source": [
    "# A case-study for applying Survival Analysis on real business problem.\n",
    "This notebook contains the sample implementation of idea discussed in this article: https://medium.com/vitalify-asia/a-case-study-for-applying-survival-analysis-on-real-business-problem-844e20820a7\n",
    "\n",
    "The data files in this repo is only a subset of the data used in the example and only serves as an example."
   ]
  },
  {
   "cell_type": "code",
   "execution_count": 2,
   "metadata": {
    "ExecuteTime": {
     "end_time": "2019-12-24T08:33:21.261002Z",
     "start_time": "2019-12-24T08:33:19.206221Z"
    }
   },
   "outputs": [],
   "source": [
    "from datetime import date\n",
    "import datetime\n",
    "from time import mktime\n",
    "\n",
    "import numpy as np\n",
    "import pandas as pd\n",
    "from sklearn.model_selection import train_test_split\n",
    "from sklearn.metrics import mean_squared_error\n",
    "\n",
    "import matplotlib.pyplot as plt\n",
    "%matplotlib inline\n",
    "seed = 123"
   ]
  },
  {
   "cell_type": "markdown",
   "metadata": {},
   "source": [
    "Define some helper functions"
   ]
  },
  {
   "cell_type": "code",
   "execution_count": 3,
   "metadata": {
    "ExecuteTime": {
     "end_time": "2019-12-24T08:33:21.270965Z",
     "start_time": "2019-12-24T08:33:21.263149Z"
    }
   },
   "outputs": [],
   "source": [
    "def load_base_df():\n",
    "    df = pd.read_csv('https://raw.githubusercontent.com/vfa-phuclkh/online_retail_survival_analysis/master/input_orig.csv')\n",
    "    df['Purchase_Date'] = pd.to_datetime(df['Purchase_Date'], format='%y/%m/%d').astype(int)\n",
    "    df['Price_down_date'] = pd.to_datetime(df['Price_down_date'], format='%y/%m/%d').astype(int)\n",
    "    df['Departure_Date'] = pd.to_datetime(df['Departure_Date'], format='%y/%m/%d').astype(int)\n",
    "    # Remove invalid month. It contains 10 rows.\n",
    "#     df = df[df['Reg_Month'] != '-']\n",
    "#     df['Reg_Date'] = df.apply(_make_reg_date, axis=1)\n",
    "    df = pd.get_dummies(df, drop_first=True, columns=[\n",
    "        'Color',\n",
    "        'Country_Sold'\n",
    "    ])\n",
    "    df = df.drop([\n",
    "#         'Reg_Year',\n",
    "#         'Reg_Month',\n",
    "    ], axis=1)\n",
    "#     df = df[df.Publish_period <= 80]\n",
    "    return df\n",
    "\n",
    "def _load_data():\n",
    "    df = load_base_df()\n",
    "\n",
    "    y = df['Publish_period'].values\n",
    "    X = df.drop(['Publish_period'], axis=1).values\n",
    "\n",
    "    return X, y\n",
    "\n",
    "def list_feature_names():\n",
    "    df = load_base_df()\n",
    "    return df.drop(['Publish_period'], axis=1).columns.values\n",
    "\n",
    "def load_train_data():\n",
    "    \"\"\"\n",
    "    :return: X : train inputs\n",
    "    :return: y : train labels\n",
    "    \"\"\"\n",
    "    X, y = _load_data()\n",
    "\n",
    "    y_labels = np.zeros_like(y)\n",
    "    y_labels[y >= np.percentile(y, 25)] = 1\n",
    "    y_labels[y >= np.percentile(y, 50)] = 2\n",
    "    y_labels[y >= np.percentile(y, 75)] = 3\n",
    "\n",
    "    X_tr, X_test, y_tr, y_test = train_test_split(X, y,\n",
    "                                                  stratify=y_labels,\n",
    "                                                  shuffle=True,\n",
    "                                                  random_state=seed,\n",
    "                                                  test_size=0.2,\n",
    "                                                  )\n",
    "\n",
    "    return X_tr, y_tr, X_test, y_test"
   ]
  },
  {
   "cell_type": "code",
   "execution_count": 4,
   "metadata": {
    "ExecuteTime": {
     "end_time": "2019-12-24T08:33:21.824239Z",
     "start_time": "2019-12-24T08:33:21.273236Z"
    }
   },
   "outputs": [],
   "source": [
    "X_tr, y_tr, X_test, y_test = load_train_data()"
   ]
  },
  {
   "cell_type": "code",
   "execution_count": 5,
   "metadata": {
    "ExecuteTime": {
     "end_time": "2019-12-24T08:33:21.835119Z",
     "start_time": "2019-12-24T08:33:21.826361Z"
    }
   },
   "outputs": [
    {
     "name": "stdout",
     "output_type": "stream",
     "text": [
      "15/08/21\n"
     ]
    },
    {
     "data": {
      "text/plain": [
       "array(['XL3-1030422', 1328659200000000000, 1322179200000000000,\n",
       "       1339113600000000000, 95938, 29, 110000, 60000, 96, 0, 1, 0, 0, 0,\n",
       "       0, 0, 0, 0, 0, 0, 0, 0, 0, 0, 1], dtype=object)"
      ]
     },
     "execution_count": 5,
     "metadata": {},
     "output_type": "execute_result"
    }
   ],
   "source": [
    "a = X_tr[0][1]\n",
    "print(datetime.datetime.fromtimestamp(1440115200000000000/1e9).strftime('%y/%m/%d'))\n",
    "X_tr[0]"
   ]
  },
  {
   "cell_type": "code",
   "execution_count": 6,
   "metadata": {
    "ExecuteTime": {
     "end_time": "2019-12-24T08:33:22.042897Z",
     "start_time": "2019-12-24T08:33:21.837652Z"
    }
   },
   "outputs": [
    {
     "name": "stdout",
     "output_type": "stream",
     "text": [
      "(80, 25) (20, 25)\n",
      "List of all feature names:\n",
      "0 Bike_id\n",
      "1 Purchase_Date\n",
      "2 Price_down_date\n",
      "3 Departure_Date\n",
      "4 Distance_travelled\n",
      "5 N_Photos\n",
      "6 Price_Orig\n",
      "7 Price_Curr\n",
      "8 N_Inquires\n",
      "9 Color_Blue\n",
      "10 Color_Gray\n",
      "11 Color_Green\n",
      "12 Color_Pearl\n",
      "13 Color_Pink\n",
      "14 Color_Silver\n",
      "15 Color_White\n",
      "16 Country_Sold_Brunei\n",
      "17 Country_Sold_Burundi\n",
      "18 Country_Sold_Cambodia\n",
      "19 Country_Sold_Chile\n",
      "20 Country_Sold_Indonesia\n",
      "21 Country_Sold_Laos\n",
      "22 Country_Sold_Malawi\n",
      "23 Country_Sold_New Zealand\n",
      "24 Country_Sold_Vietnam\n"
     ]
    }
   ],
   "source": [
    "print(X_tr.shape, X_test.shape)\n",
    "print(\"List of all feature names:\")\n",
    "name_list = list_feature_names()\n",
    "for i in range(name_list.shape[0]):\n",
    "    print(i, name_list[i])"
   ]
  },
  {
   "cell_type": "code",
   "execution_count": 7,
   "metadata": {
    "ExecuteTime": {
     "end_time": "2019-12-24T08:33:22.051450Z",
     "start_time": "2019-12-24T08:33:22.045958Z"
    }
   },
   "outputs": [],
   "source": [
    "# Normalize data\n",
    "from sklearn.preprocessing import normalize\n",
    "X_tr[:, 1:] = normalize(X_tr[:, 1:], axis=0)\n",
    "X_test[:, 1:] = normalize(X_test[:, 1:], axis=0)"
   ]
  },
  {
   "cell_type": "code",
   "execution_count": 8,
   "metadata": {
    "ExecuteTime": {
     "end_time": "2019-12-24T08:33:22.059833Z",
     "start_time": "2019-12-24T08:33:22.054173Z"
    }
   },
   "outputs": [
    {
     "data": {
      "text/plain": [
       "(80, 25)"
      ]
     },
     "execution_count": 8,
     "metadata": {},
     "output_type": "execute_result"
    }
   ],
   "source": [
    "X_tr.shape"
   ]
  },
  {
   "cell_type": "markdown",
   "metadata": {},
   "source": [
    "## Baseline Simple Regression"
   ]
  },
  {
   "cell_type": "code",
   "execution_count": 9,
   "metadata": {
    "ExecuteTime": {
     "end_time": "2019-12-24T08:33:22.202886Z",
     "start_time": "2019-12-24T08:33:22.062450Z"
    }
   },
   "outputs": [],
   "source": [
    "import lightgbm as lgb\n",
    "eval_result = {}\n",
    "params = {\n",
    "    'bagging_fraction': 0.8351240299610244,\n",
    "    'feature_fraction': 0.9880900755129445,\n",
    "    'learning_rate': 0.601638071095316,\n",
    "    'max_bin': 733,\n",
    "    'max_depth': 7,\n",
    "    'num_leaves': 12,\n",
    "    'objective': 'regression',\n",
    "    'metric': {'l2', 'auc'},\n",
    "    'verbose': -1,\n",
    "}\n",
    "\n",
    "lgb_tr = lgb.Dataset(X_tr[:, 1:], label=y_tr, free_raw_data=False)\n",
    "lgb_val = lgb.Dataset(X_test[:, 1:], label=y_test, reference=lgb_tr, free_raw_data=False)\n",
    "\n",
    "model = lgb.train(params,\n",
    "                  lgb_tr,\n",
    "                  num_boost_round=2000,\n",
    "                  valid_sets=lgb_val,\n",
    "                  early_stopping_rounds=100,\n",
    "                  evals_result=eval_result,\n",
    "                  verbose_eval=False)\n"
   ]
  },
  {
   "cell_type": "code",
   "execution_count": 10,
   "metadata": {
    "ExecuteTime": {
     "end_time": "2019-12-24T08:33:22.471331Z",
     "start_time": "2019-12-24T08:33:22.205018Z"
    }
   },
   "outputs": [
    {
     "name": "stdout",
     "output_type": "stream",
     "text": [
      "Mean square error:  309.70242862216566\n"
     ]
    },
    {
     "data": {
      "text/plain": [
       "<matplotlib.legend.Legend at 0x123e48a20>"
      ]
     },
     "execution_count": 10,
     "metadata": {},
     "output_type": "execute_result"
    },
    {
     "data": {
      "image/png": "[encoded data removed]",
      "text/plain": [
       "<Figure size 432x288 with 1 Axes>"
      ]
     },
     "metadata": {},
     "output_type": "display_data"
    }
   ],
   "source": [
    "\n",
    "preds = model.predict(X_tr[: ,1:], num_iteration=model.best_iteration)\n",
    "loss = mean_squared_error(y_tr, preds)\n",
    "print(\"Mean square error: \", loss)\n",
    "\n",
    "sort_y = np.argsort(y_tr)\n",
    "plt.plot(preds[sort_y], label='predictions')\n",
    "plt.plot(y_tr[sort_y], label='X_tr')\n",
    "plt.xlabel('bike')\n",
    "plt.ylabel('day t')\n",
    "plt.legend(loc='best')"
   ]
  },
  {
   "cell_type": "code",
   "execution_count": 11,
   "metadata": {
    "ExecuteTime": {
     "end_time": "2019-12-24T08:33:22.718434Z",
     "start_time": "2019-12-24T08:33:22.473236Z"
    }
   },
   "outputs": [
    {
     "name": "stdout",
     "output_type": "stream",
     "text": [
      "Mean square error:  237.7930439056094\n"
     ]
    },
    {
     "data": {
      "text/plain": [
       "<matplotlib.legend.Legend at 0x123f408d0>"
      ]
     },
     "execution_count": 11,
     "metadata": {},
     "output_type": "execute_result"
    },
    {
     "data": {
      "image/png": "[encoded data removed]",
      "text/plain": [
       "<Figure size 432x288 with 1 Axes>"
      ]
     },
     "metadata": {},
     "output_type": "display_data"
    }
   ],
   "source": [
    "preds = model.predict(X_test[: ,1:], num_iteration=model.best_iteration)\n",
    "loss = mean_squared_error(y_test, preds)\n",
    "print(\"Mean square error: \", loss)\n",
    "\n",
    "sort_y = np.argsort(y_test)\n",
    "plt.plot(preds[sort_y], label='predictions')\n",
    "plt.plot(y_test[sort_y], label='X_test')\n",
    "plt.xlabel('bike')\n",
    "plt.ylabel('day t')\n",
    "plt.legend(loc='best')"
   ]
  },
  {
   "cell_type": "code",
   "execution_count": 12,
   "metadata": {
    "ExecuteTime": {
     "end_time": "2019-12-24T08:33:22.975744Z",
     "start_time": "2019-12-24T08:33:22.721314Z"
    }
   },
   "outputs": [
    {
     "name": "stdout",
     "output_type": "stream",
     "text": [
      "Mean square error:  295.3205516788544\n"
     ]
    },
    {
     "data": {
      "text/plain": [
       "<matplotlib.legend.Legend at 0x123fcad30>"
      ]
     },
     "execution_count": 12,
     "metadata": {},
     "output_type": "execute_result"
    },
    {
     "data": {
      "image/png": "[encoded data removed]",
      "text/plain": [
       "<Figure size 432x288 with 1 Axes>"
      ]
     },
     "metadata": {},
     "output_type": "display_data"
    }
   ],
   "source": [
    "X = np.concatenate([X_tr, X_test], axis=0)\n",
    "y = np.concatenate([y_tr, y_test], axis=0)\n",
    "\n",
    "preds = model.predict(X[: ,1:], num_iteration=model.best_iteration)\n",
    "loss = mean_squared_error(y, preds)\n",
    "print(\"Mean square error: \", loss)\n",
    "\n",
    "sort_y = np.argsort(y)\n",
    "plt.plot(preds[sort_y], label='Predictions')\n",
    "plt.plot(y[sort_y], label='Ground truth')\n",
    "plt.xlabel('bike')\n",
    "plt.ylabel('Publish_period')\n",
    "plt.legend(loc='best')"
   ]
  },
  {
   "cell_type": "markdown",
   "metadata": {},
   "source": [
    "# Survival Analysis"
   ]
  },
  {
   "cell_type": "code",
   "execution_count": 13,
   "metadata": {
    "ExecuteTime": {
     "end_time": "2019-12-24T08:33:24.336725Z",
     "start_time": "2019-12-24T08:33:22.977622Z"
    }
   },
   "outputs": [],
   "source": [
    "# load survival-format data\n",
    "df = pd.read_csv('https://raw.githubusercontent.com/vfa-phuclkh/online_retail_survival_analysis/master/input_survival.csv')\n",
    "df = pd.get_dummies(df, drop_first=True, columns=[\n",
    "        'Color',\n",
    "        'Country_Sold'\n",
    "    ])\n",
    "X = df.drop(['is_sold', 'Publish_period'], axis=1)\n",
    "X_values = X.values\n",
    "# Combine the event indicator isSold and Publish_period to create ground truth y for our model\n",
    "isSold = df['is_sold'].astype(bool)\n",
    "pub = df['Publish_period']\n",
    "y = pd.concat([isSold, pub], axis=1)\n",
    "y_values = y.values"
   ]
  },
  {
   "cell_type": "code",
   "execution_count": 14,
   "metadata": {
    "ExecuteTime": {
     "end_time": "2019-12-24T08:33:24.432921Z",
     "start_time": "2019-12-24T08:33:24.338691Z"
    }
   },
   "outputs": [],
   "source": [
    "# Normalize data\n",
    "from sklearn.preprocessing import normalize\n",
    "X_values[:, 1:] = normalize(X_values[:, 1:], axis=0)\n",
    "\n",
    "# train test split\n",
    "X_tr, X_test, y_tr, y_test = train_test_split(X_values, y_values,\n",
    "                                                  shuffle=True,\n",
    "                                                  random_state=seed,\n",
    "                                                  test_size=0.2,\n",
    "                                                  )"
   ]
  },
  {
   "cell_type": "code",
   "execution_count": 15,
   "metadata": {
    "ExecuteTime": {
     "end_time": "2019-12-24T08:33:24.451542Z",
     "start_time": "2019-12-24T08:33:24.435921Z"
    }
   },
   "outputs": [],
   "source": [
    "# Convert y to uncensored data, all are (True, days)\n",
    "dt = np.dtype([('event', np.bool_), ('days', np.float64)])\n",
    "def convert_y(y):\n",
    "    y_out = []\n",
    "#     y = np.log(y+1e-22)\n",
    "    for i in range(y.shape[0]):\n",
    "        if y[i, 0]:\n",
    "            y_out.append(('True', y[i, 1]))\n",
    "        else:\n",
    "            y_out.append(('False', y[i, 1]))\n",
    "    y_out = np.array(y_out, dtype=dt)\n",
    "    return y_out\n",
    "\n",
    "y_converted = convert_y(y_values)"
   ]
  },
  {
   "cell_type": "code",
   "execution_count": 16,
   "metadata": {
    "ExecuteTime": {
     "end_time": "2019-12-24T08:33:24.916449Z",
     "start_time": "2019-12-24T08:33:24.454046Z"
    }
   },
   "outputs": [
    {
     "data": {
      "text/plain": [
       "Text(0.5, 0, 'day $t$')"
      ]
     },
     "execution_count": 16,
     "metadata": {},
     "output_type": "execute_result"
    },
    {
     "data": {
      "image/png": "[encoded data removed]",
      "text/plain": [
       "<Figure size 432x288 with 1 Axes>"
      ]
     },
     "metadata": {},
     "output_type": "display_data"
    }
   ],
   "source": [
    "from sksurv.nonparametric import kaplan_meier_estimator\n",
    "\n",
    "time, sold_prob = kaplan_meier_estimator(y['is_sold'], y['Publish_period'])\n",
    "plt.step(time, sold_prob, where=\"post\")\n",
    "plt.ylabel(\"est. probability of survival $\\hat{S}(t)$\")\n",
    "plt.xlabel(\"day $t$\")"
   ]
  },
  {
   "cell_type": "code",
   "execution_count": 17,
   "metadata": {
    "ExecuteTime": {
     "end_time": "2019-12-24T08:33:25.161822Z",
     "start_time": "2019-12-24T08:33:24.919287Z"
    }
   },
   "outputs": [
    {
     "name": "stdout",
     "output_type": "stream",
     "text": [
      "72859.14621293319\n"
     ]
    },
    {
     "data": {
      "text/plain": [
       "<matplotlib.legend.Legend at 0x12683dfd0>"
      ]
     },
     "execution_count": 17,
     "metadata": {},
     "output_type": "execute_result"
    },
    {
     "data": {
      "image/png": "[encoded data removed]",
      "text/plain": [
       "<Figure size 432x288 with 1 Axes>"
      ]
     },
     "metadata": {},
     "output_type": "display_data"
    }
   ],
   "source": [
    "# Use the Price\n",
    "avg_price = np.mean(X['Price'])\n",
    "print(avg_price)\n",
    "\n",
    "mask_price_below = X['Price'] <= avg_price\n",
    "time, sold_prob_below = kaplan_meier_estimator(\n",
    "    y['is_sold'][mask_price_below],\n",
    "    y[\"Publish_period\"][mask_price_below])\n",
    "plt.step(time, sold_prob_below, where=\"post\", label=\"price<=avg\")\n",
    "\n",
    "mask_price_above = X['Price'] > avg_price\n",
    "time, sold_prob_above = kaplan_meier_estimator(\n",
    "    y['is_sold'][mask_price_above],\n",
    "    y[\"Publish_period\"][mask_price_above])\n",
    "plt.step(time, sold_prob_above, where=\"post\", label=\"price>avg\")\n",
    "\n",
    "plt.ylabel(\"est. probability of survival $\\hat{S}(t)$\")\n",
    "plt.xlabel(\"time $t$\")\n",
    "plt.legend(loc=\"best\")"
   ]
  },
  {
   "cell_type": "code",
   "execution_count": 18,
   "metadata": {
    "ExecuteTime": {
     "end_time": "2019-12-24T08:33:25.410294Z",
     "start_time": "2019-12-24T08:33:25.163591Z"
    }
   },
   "outputs": [
    {
     "name": "stdout",
     "output_type": "stream",
     "text": [
      "30.794122901036083\n"
     ]
    },
    {
     "data": {
      "text/plain": [
       "<matplotlib.legend.Legend at 0x124433cf8>"
      ]
     },
     "execution_count": 18,
     "metadata": {},
     "output_type": "execute_result"
    },
    {
     "data": {
      "image/png": "[encoded data removed]",
      "text/plain": [
       "<Figure size 432x288 with 1 Axes>"
      ]
     },
     "metadata": {},
     "output_type": "display_data"
    }
   ],
   "source": [
    "# Use the N_Photos\n",
    "avg_price = np.mean(X['N_Photos'])\n",
    "print(avg_price)\n",
    "\n",
    "mask_price_below = X['N_Photos'] <= avg_price\n",
    "time, sold_prob_below = kaplan_meier_estimator(\n",
    "    y['is_sold'][mask_price_below],\n",
    "    y[\"Publish_period\"][mask_price_below])\n",
    "plt.step(time, sold_prob_below, where=\"post\", label=\"price<=avg\")\n",
    "\n",
    "mask_price_above = X['N_Photos'] >= avg_price\n",
    "time, sold_prob_above = kaplan_meier_estimator(\n",
    "    y['is_sold'][mask_price_above],\n",
    "    y[\"Publish_period\"][mask_price_above])\n",
    "plt.step(time, sold_prob_above, where=\"post\", label=\"price>avg\")\n",
    "\n",
    "plt.ylabel(\"est. probability of survival $\\hat{S}(t)$\")\n",
    "plt.xlabel(\"time $t$\")\n",
    "plt.legend(loc=\"best\")"
   ]
  },
  {
   "cell_type": "markdown",
   "metadata": {},
   "source": [
    "## Multivariate Survival Models\n",
    "#### Train only one of the model below before predict\n",
    "### CoxPHSurvivalAnalysis\n",
    "The CoxPHSurvivalAnalysis expects a data matrix and a structered array of survival times and binary event indicators."
   ]
  },
  {
   "cell_type": "code",
   "execution_count": 19,
   "metadata": {
    "ExecuteTime": {
     "end_time": "2019-12-24T08:33:26.774915Z",
     "start_time": "2019-12-24T08:33:25.412420Z"
    }
   },
   "outputs": [
    {
     "data": {
      "text/plain": [
       "CoxPHSurvivalAnalysis(alpha=0.2, n_iter=1000, ties='breslow', tol=1e-09,\n",
       "                      verbose=0)"
      ]
     },
     "execution_count": 19,
     "metadata": {},
     "output_type": "execute_result"
    }
   ],
   "source": [
    "from sksurv.linear_model import CoxPHSurvivalAnalysis\n",
    "\n",
    "estimator = CoxPHSurvivalAnalysis(alpha=2e-01, tol=1e-09, n_iter=1000)\n",
    "estimator.fit(X_values[:, 1:], y_converted)"
   ]
  },
  {
   "cell_type": "code",
   "execution_count": 20,
   "metadata": {
    "ExecuteTime": {
     "end_time": "2019-12-24T08:33:26.791698Z",
     "start_time": "2019-12-24T08:33:26.777305Z"
    }
   },
   "outputs": [
    {
     "data": {
      "text/html": [
       "<div>\n",
       "<style scoped>\n",
       "    .dataframe tbody tr th:only-of-type {\n",
       "        vertical-align: middle;\n",
       "    }\n",
       "\n",
       "    .dataframe tbody tr th {\n",
       "        vertical-align: top;\n",
       "    }\n",
       "\n",
       "    .dataframe thead th {\n",
       "        text-align: right;\n",
       "    }\n",
       "</style>\n",
       "<table border=\"1\" class=\"dataframe\">\n",
       "  <thead>\n",
       "    <tr style=\"text-align: right;\">\n",
       "      <th></th>\n",
       "      <th>is_sold</th>\n",
       "      <th>Publish_period</th>\n",
       "    </tr>\n",
       "  </thead>\n",
       "  <tbody>\n",
       "    <tr>\n",
       "      <td>0</td>\n",
       "      <td>False</td>\n",
       "      <td>10</td>\n",
       "    </tr>\n",
       "    <tr>\n",
       "      <td>1</td>\n",
       "      <td>True</td>\n",
       "      <td>4</td>\n",
       "    </tr>\n",
       "    <tr>\n",
       "      <td>2</td>\n",
       "      <td>True</td>\n",
       "      <td>28</td>\n",
       "    </tr>\n",
       "    <tr>\n",
       "      <td>3</td>\n",
       "      <td>False</td>\n",
       "      <td>17</td>\n",
       "    </tr>\n",
       "    <tr>\n",
       "      <td>4</td>\n",
       "      <td>True</td>\n",
       "      <td>7</td>\n",
       "    </tr>\n",
       "    <tr>\n",
       "      <td>...</td>\n",
       "      <td>...</td>\n",
       "      <td>...</td>\n",
       "    </tr>\n",
       "    <tr>\n",
       "      <td>11191</td>\n",
       "      <td>True</td>\n",
       "      <td>2</td>\n",
       "    </tr>\n",
       "    <tr>\n",
       "      <td>11192</td>\n",
       "      <td>False</td>\n",
       "      <td>19</td>\n",
       "    </tr>\n",
       "    <tr>\n",
       "      <td>11193</td>\n",
       "      <td>True</td>\n",
       "      <td>0</td>\n",
       "    </tr>\n",
       "    <tr>\n",
       "      <td>11194</td>\n",
       "      <td>False</td>\n",
       "      <td>7</td>\n",
       "    </tr>\n",
       "    <tr>\n",
       "      <td>11195</td>\n",
       "      <td>True</td>\n",
       "      <td>5</td>\n",
       "    </tr>\n",
       "  </tbody>\n",
       "</table>\n",
       "<p>11196 rows × 2 columns</p>\n",
       "</div>"
      ],
      "text/plain": [
       "       is_sold  Publish_period\n",
       "0        False              10\n",
       "1         True               4\n",
       "2         True              28\n",
       "3        False              17\n",
       "4         True               7\n",
       "...        ...             ...\n",
       "11191     True               2\n",
       "11192    False              19\n",
       "11193     True               0\n",
       "11194    False               7\n",
       "11195     True               5\n",
       "\n",
       "[11196 rows x 2 columns]"
      ]
     },
     "execution_count": 20,
     "metadata": {},
     "output_type": "execute_result"
    }
   ],
   "source": [
    "y"
   ]
  },
  {
   "cell_type": "code",
   "execution_count": 21,
   "metadata": {
    "ExecuteTime": {
     "end_time": "2019-12-24T08:33:26.802678Z",
     "start_time": "2019-12-24T08:33:26.794267Z"
    }
   },
   "outputs": [],
   "source": [
    "from sksurv.metrics import concordance_index_censored\n",
    "from sklearn.metrics import mean_squared_error\n",
    "\n",
    "def predict_day(pred_survival, prob=0.5):\n",
    "    days = np.zeros((pred_survival.shape))\n",
    "    for i, c in enumerate(pred_survival):\n",
    "        days[i] = c.x[-1]\n",
    "        for j, prob in enumerate(c.y):\n",
    "            if prob >= 0.5:\n",
    "                days[i] = c.x[j]\n",
    "    return days\n",
    "\n",
    "def score_survival_model(model, X, y_out):\n",
    "    y = np.zeros((y_out.shape))\n",
    "    for i in range(y_out.shape[0]):\n",
    "        y[i] = y_out[i][1]\n",
    "    prediction = model.predict_survival_function(X)\n",
    "    predict_days = predict_day(prediction)\n",
    "    loss = mean_squared_error(y, predict_days)\n",
    "    return loss"
   ]
  },
  {
   "cell_type": "code",
   "execution_count": 22,
   "metadata": {
    "ExecuteTime": {
     "end_time": "2019-12-24T08:33:33.301591Z",
     "start_time": "2019-12-24T08:33:26.805999Z"
    }
   },
   "outputs": [
    {
     "data": {
      "text/plain": [
       "<Figure size 432x288 with 0 Axes>"
      ]
     },
     "execution_count": 22,
     "metadata": {},
     "output_type": "execute_result"
    },
    {
     "data": {
      "image/png": "[encoded data removed]",
      "text/plain": [
       "<Figure size 432x288 with 1 Axes>"
      ]
     },
     "metadata": {},
     "output_type": "display_data"
    },
    {
     "data": {
      "text/plain": [
       "<Figure size 432x288 with 0 Axes>"
      ]
     },
     "metadata": {},
     "output_type": "display_data"
    }
   ],
   "source": [
    "pred_survival = estimator.predict_survival_function(X_test[:, 1:].astype(float))\n",
    "for i, c in enumerate(pred_survival):\n",
    "    plt.step(c.x, c.y, where=\"post\", label=\"Sample %d\" % (i + 1))\n",
    "plt.ylabel(\"est. probability of survival $\\hat{S}(t)$\")\n",
    "plt.xlabel(\"time $t$\")\n",
    "# plt.legend(loc=\"best\")\n",
    "plt.title(\"Survival function\")\n",
    "plt.figure(0)"
   ]
  },
  {
   "cell_type": "code",
   "execution_count": 23,
   "metadata": {
    "ExecuteTime": {
     "end_time": "2019-12-24T08:33:33.355782Z",
     "start_time": "2019-12-24T08:33:33.303585Z"
    }
   },
   "outputs": [
    {
     "data": {
      "text/plain": [
       "array([11., 13.,  7., ..., 11., 10., 10.])"
      ]
     },
     "execution_count": 23,
     "metadata": {},
     "output_type": "execute_result"
    }
   ],
   "source": [
    "predict_days = predict_day(pred_survival)\n",
    "predict_days"
   ]
  },
  {
   "cell_type": "code",
   "execution_count": 37,
   "metadata": {
    "ExecuteTime": {
     "end_time": "2019-12-24T08:34:26.550219Z",
     "start_time": "2019-12-24T08:34:26.546077Z"
    }
   },
   "outputs": [
    {
     "data": {
      "text/plain": [
       "array([11., 13.,  7., ..., 11., 10., 10.])"
      ]
     },
     "execution_count": 37,
     "metadata": {},
     "output_type": "execute_result"
    }
   ],
   "source": [
    "predict_days"
   ]
  },
  {
   "cell_type": "code",
   "execution_count": 38,
   "metadata": {
    "ExecuteTime": {
     "end_time": "2019-12-24T08:34:34.212595Z",
     "start_time": "2019-12-24T08:34:34.208215Z"
    }
   },
   "outputs": [
    {
     "data": {
      "text/plain": [
       "array([12, 37, 25, ..., 10, 45, 6], dtype=object)"
      ]
     },
     "execution_count": 38,
     "metadata": {},
     "output_type": "execute_result"
    }
   ],
   "source": [
    "y_test[:, 1]"
   ]
  },
  {
   "cell_type": "code",
   "execution_count": 39,
   "metadata": {
    "ExecuteTime": {
     "end_time": "2019-12-24T08:35:19.068166Z",
     "start_time": "2019-12-24T08:35:18.828347Z"
    }
   },
   "outputs": [
    {
     "data": {
      "text/plain": [
       "116.07678571428572"
      ]
     },
     "execution_count": 39,
     "metadata": {},
     "output_type": "execute_result"
    },
    {
     "data": {
      "image/png": "[encoded data removed]",
      "text/plain": [
       "<Figure size 432x288 with 1 Axes>"
      ]
     },
     "metadata": {},
     "output_type": "display_data"
    }
   ],
   "source": [
    "n_test = y_test.shape\n",
    "plt.plot(predict_days[:100], label='predictions')\n",
    "plt.plot(y_test[:, 1][:100], label='X_test')\n",
    "plt.xlabel('car')\n",
    "plt.ylabel('day t')\n",
    "plt.legend(loc='best')\n",
    "\n",
    "loss = mean_squared_error(y_test[:, 1], predict_days)\n",
    "loss"
   ]
  },
  {
   "cell_type": "markdown",
   "metadata": {},
   "source": [
    "## Suggest price for maximum profit"
   ]
  },
  {
   "cell_type": "code",
   "execution_count": 26,
   "metadata": {
    "ExecuteTime": {
     "end_time": "2019-12-24T08:33:33.645449Z",
     "start_time": "2019-12-24T08:33:33.642376Z"
    }
   },
   "outputs": [],
   "source": [
    "# Some import\n",
    "from time import mktime\n",
    "\n",
    "import numpy as np\n",
    "import pandas as pd\n",
    "from datetime import date\n",
    "from scipy.interpolate import interp1d\n",
    "from sklearn.model_selection import train_test_split\n",
    "from sklearn.preprocessing import MinMaxScaler\n",
    "from sksurv.linear_model import CoxPHSurvivalAnalysis\n",
    "from sksurv.metrics import concordance_index_censored\n",
    "import matplotlib.pyplot as plt"
   ]
  },
  {
   "cell_type": "code",
   "execution_count": 27,
   "metadata": {
    "ExecuteTime": {
     "end_time": "2019-12-24T08:33:33.653337Z",
     "start_time": "2019-12-24T08:33:33.647475Z"
    }
   },
   "outputs": [],
   "source": [
    "COST_PER_DAY = 1000"
   ]
  },
  {
   "cell_type": "code",
   "execution_count": 28,
   "metadata": {
    "ExecuteTime": {
     "end_time": "2019-12-24T08:33:33.663898Z",
     "start_time": "2019-12-24T08:33:33.655761Z"
    }
   },
   "outputs": [],
   "source": [
    "def calc_profit(df_record, estimator, scaler):\n",
    "    scaled = scaler.transform(df_record.drop(['Bike_id', 'Publish_period']).values.reshape(1, -1))\n",
    "    sf = estimator.predict_survival_function([scaled])[0]\n",
    "\n",
    "    # Interpolation\n",
    "    f2 = interp1d(sf.x, sf.y, kind='cubic')\n",
    "    x = np.arange(np.max(sf.x) + 1)\n",
    "    y = f2(x)\n",
    "\n",
    "    income = (-np.gradient(y, x) * df_record['Price']).sum()\n",
    "    outcome = (COST_PER_DAY * y).sum()\n",
    "    profit = income - outcome\n",
    "\n",
    "    return profit\n",
    "\n",
    "def plot_survival(estimator, X, n_plot=-1):\n",
    "    pred_survival = estimator.predict_survival_function(X)\n",
    "    for i, c in enumerate(pred_survival[:n_plot]):\n",
    "        plt.step(c.x, c.y, where=\"post\", label=\"Sample %d\" % (i + 1))\n",
    "    plt.ylabel(\"est. probability of survival $\\hat{S}(t)$\")\n",
    "    plt.xlabel(\"time $t$\")\n",
    "    plt.legend(loc=\"best\")\n",
    "    plt.title(\"Survival function\")\n",
    "    plt.show()\n",
    "    \n",
    "def optimize_price(estimator, scaler, df_record, max_price, min_price):\n",
    "    print(df_record)\n",
    "    price = df_record['Price']\n",
    "    sp_price = np.linspace(min_price, max_price, 1000)\n",
    "\n",
    "    profits = []\n",
    "    for p in sp_price:\n",
    "        df_record['Price'] = p\n",
    "        profit = calc_profit(df_record, estimator, scaler)\n",
    "        profits.append(profit)\n",
    "    best = np.argmax(profits)\n",
    "    best_profit = profits[best]\n",
    "    best_price = sp_price[best]\n",
    "    print(\"Suggest price:\", best_price)\n",
    "    print(\"price:\", price)\n",
    "    plt.plot(sp_price, profits)\n",
    "    plt.show(block=False)"
   ]
  },
  {
   "cell_type": "code",
   "execution_count": 29,
   "metadata": {
    "ExecuteTime": {
     "end_time": "2019-12-24T08:33:35.000439Z",
     "start_time": "2019-12-24T08:33:33.666345Z"
    }
   },
   "outputs": [],
   "source": [
    "from sklearn.preprocessing import MinMaxScaler\n",
    "df = pd.read_csv('https://raw.githubusercontent.com/vfa-phuclkh/online_retail_survival_analysis/master/input_survival.csv')\n",
    "df = pd.get_dummies(df, drop_first=True, columns=[\n",
    "        'Color',\n",
    "        'Country_Sold'\n",
    "    ])\n",
    "X = df.drop(['is_sold', 'Publish_period'], axis=1)\n",
    "y = df['Publish_period'].values\n",
    "\n",
    "ref_tr, ref_val, _, _ = train_test_split(df['Bike_id'].values, y,\n",
    "#                                          stratify=y_labels,\n",
    "                                         shuffle=True,\n",
    "                                         random_state=123,\n",
    "                                         test_size=0.2,\n",
    "                                         )\n",
    "df_tr = df[df['Bike_id'].isin(ref_tr)]\n",
    "df_val = df[df['Bike_id'].isin(ref_val)]\n",
    "\n",
    "# Prepare X\n",
    "scaler = MinMaxScaler().fit(df.drop(['Bike_id', 'Publish_period'], axis=1).values)\n",
    "X_tr = scaler.transform(df_tr.drop(['Bike_id', 'Publish_period'], axis=1).values)\n",
    "X_val = scaler.transform(df_val.drop(['Bike_id', 'Publish_period'], axis=1).values)\n",
    "\n",
    "# Prepare y\n",
    "y_tr = pd.DataFrame({\n",
    "    'Survival_in_days': df_tr['Publish_period'].values,\n",
    "    'Status': np.ones_like(df_tr['Publish_period'].values).astype(bool),\n",
    "}).to_records(index=False)\n",
    "y_val = pd.DataFrame({\n",
    "    'Survival_in_days': df_val['Publish_period'].values,\n",
    "    'Status': np.ones_like(df_val['Publish_period'].values).astype(bool),\n",
    "}).to_records(index=False)"
   ]
  },
  {
   "cell_type": "code",
   "execution_count": 30,
   "metadata": {
    "ExecuteTime": {
     "end_time": "2019-12-24T08:33:35.848676Z",
     "start_time": "2019-12-24T08:33:35.002862Z"
    }
   },
   "outputs": [],
   "source": [
    "df = pd.read_csv('https://raw.githubusercontent.com/vfa-phuclkh/online_retail_survival_analysis/master/input_survival.csv')\n",
    "df = pd.get_dummies(df, drop_first=True, columns=[\n",
    "        'Color',\n",
    "        'Country_Sold'\n",
    "    ])\n",
    "X = df.drop(['is_sold', 'Publish_period'], axis=1)\n",
    "X_values = X.values\n",
    "# Combine the event indicator isSold and Publish_period to create ground truth y for our model\n",
    "isSold = df['is_sold'].astype(bool)\n",
    "pub = df['Publish_period']\n",
    "y = pd.concat([isSold, pub], axis=1)\n",
    "y_values = y.values"
   ]
  },
  {
   "cell_type": "code",
   "execution_count": 31,
   "metadata": {
    "ExecuteTime": {
     "end_time": "2019-12-24T08:33:35.873135Z",
     "start_time": "2019-12-24T08:33:35.850805Z"
    }
   },
   "outputs": [],
   "source": [
    "# Prepare X\n",
    "scaler = MinMaxScaler().fit(df.drop(['Bike_id', 'Publish_period'], axis=1).values)\n",
    "X_tr = scaler.transform(df_tr.drop(['Bike_id', 'Publish_period'], axis=1).values)\n",
    "X_val = scaler.transform(df_val.drop(['Bike_id', 'Publish_period'], axis=1).values)"
   ]
  },
  {
   "cell_type": "code",
   "execution_count": 32,
   "metadata": {
    "ExecuteTime": {
     "end_time": "2019-12-24T08:33:36.002921Z",
     "start_time": "2019-12-24T08:33:35.875492Z"
    }
   },
   "outputs": [
    {
     "ename": "ValueError",
     "evalue": "elements of event indicator must be boolean, but found int64",
     "output_type": "error",
     "traceback": [
      "\u001b[0;31m---------------------------------------------------------------------------\u001b[0m",
      "\u001b[0;31mValueError\u001b[0m                                Traceback (most recent call last)",
      "\u001b[0;32m<ipython-input-32-1106a74f0059>\u001b[0m in \u001b[0;36m<module>\u001b[0;34m()\u001b[0m\n\u001b[1;32m      1\u001b[0m \u001b[0;31m# Fit\u001b[0m\u001b[0;34m\u001b[0m\u001b[0;34m\u001b[0m\u001b[0;34m\u001b[0m\u001b[0m\n\u001b[1;32m      2\u001b[0m \u001b[0mestimator\u001b[0m \u001b[0;34m=\u001b[0m \u001b[0mCoxPHSurvivalAnalysis\u001b[0m\u001b[0;34m(\u001b[0m\u001b[0malpha\u001b[0m\u001b[0;34m=\u001b[0m\u001b[0;36m3\u001b[0m\u001b[0;34m,\u001b[0m \u001b[0mn_iter\u001b[0m\u001b[0;34m=\u001b[0m\u001b[0;36m100\u001b[0m\u001b[0;34m)\u001b[0m\u001b[0;34m\u001b[0m\u001b[0;34m\u001b[0m\u001b[0m\n\u001b[0;32m----> 3\u001b[0;31m \u001b[0mestimator\u001b[0m\u001b[0;34m.\u001b[0m\u001b[0mfit\u001b[0m\u001b[0;34m(\u001b[0m\u001b[0mX_tr\u001b[0m\u001b[0;34m,\u001b[0m \u001b[0my_tr\u001b[0m\u001b[0;34m)\u001b[0m\u001b[0;34m\u001b[0m\u001b[0;34m\u001b[0m\u001b[0m\n\u001b[0m",
      "\u001b[0;32m~/.pyenv/versions/3.7.2/envs/latest/lib/python3.7/site-packages/sksurv/linear_model/coxph.py\u001b[0m in \u001b[0;36mfit\u001b[0;34m(self, X, y)\u001b[0m\n\u001b[1;32m    382\u001b[0m         \u001b[0mself\u001b[0m\u001b[0;34m\u001b[0m\u001b[0;34m\u001b[0m\u001b[0m\n\u001b[1;32m    383\u001b[0m         \"\"\"\n\u001b[0;32m--> 384\u001b[0;31m         \u001b[0mX\u001b[0m\u001b[0;34m,\u001b[0m \u001b[0mevent\u001b[0m\u001b[0;34m,\u001b[0m \u001b[0mtime\u001b[0m \u001b[0;34m=\u001b[0m \u001b[0mcheck_arrays_survival\u001b[0m\u001b[0;34m(\u001b[0m\u001b[0mX\u001b[0m\u001b[0;34m,\u001b[0m \u001b[0my\u001b[0m\u001b[0;34m)\u001b[0m\u001b[0;34m\u001b[0m\u001b[0;34m\u001b[0m\u001b[0m\n\u001b[0m\u001b[1;32m    385\u001b[0m \u001b[0;34m\u001b[0m\u001b[0m\n\u001b[1;32m    386\u001b[0m         \u001b[0;32mif\u001b[0m \u001b[0mself\u001b[0m\u001b[0;34m.\u001b[0m\u001b[0malpha\u001b[0m \u001b[0;34m<\u001b[0m \u001b[0;36m0\u001b[0m\u001b[0;34m:\u001b[0m\u001b[0;34m\u001b[0m\u001b[0;34m\u001b[0m\u001b[0m\n",
      "\u001b[0;32m~/.pyenv/versions/3.7.2/envs/latest/lib/python3.7/site-packages/sksurv/util.py\u001b[0m in \u001b[0;36mcheck_arrays_survival\u001b[0;34m(X, y, **kwargs)\u001b[0m\n\u001b[1;32m    192\u001b[0m         \u001b[0mTime\u001b[0m \u001b[0mof\u001b[0m \u001b[0mevent\u001b[0m \u001b[0;32mor\u001b[0m \u001b[0mcensoring\u001b[0m\u001b[0;34m.\u001b[0m\u001b[0;34m\u001b[0m\u001b[0;34m\u001b[0m\u001b[0m\n\u001b[1;32m    193\u001b[0m     \"\"\"\n\u001b[0;32m--> 194\u001b[0;31m     \u001b[0mevent\u001b[0m\u001b[0;34m,\u001b[0m \u001b[0mtime\u001b[0m \u001b[0;34m=\u001b[0m \u001b[0mcheck_y_survival\u001b[0m\u001b[0;34m(\u001b[0m\u001b[0my\u001b[0m\u001b[0;34m)\u001b[0m\u001b[0;34m\u001b[0m\u001b[0;34m\u001b[0m\u001b[0m\n\u001b[0m\u001b[1;32m    195\u001b[0m     \u001b[0mkwargs\u001b[0m\u001b[0;34m.\u001b[0m\u001b[0msetdefault\u001b[0m\u001b[0;34m(\u001b[0m\u001b[0;34m\"dtype\"\u001b[0m\u001b[0;34m,\u001b[0m \u001b[0mnumpy\u001b[0m\u001b[0;34m.\u001b[0m\u001b[0mfloat64\u001b[0m\u001b[0;34m)\u001b[0m\u001b[0;34m\u001b[0m\u001b[0;34m\u001b[0m\u001b[0m\n\u001b[1;32m    196\u001b[0m     \u001b[0mX\u001b[0m \u001b[0;34m=\u001b[0m \u001b[0mcheck_array\u001b[0m\u001b[0;34m(\u001b[0m\u001b[0mX\u001b[0m\u001b[0;34m,\u001b[0m \u001b[0mensure_min_samples\u001b[0m\u001b[0;34m=\u001b[0m\u001b[0;36m2\u001b[0m\u001b[0;34m,\u001b[0m \u001b[0;34m**\u001b[0m\u001b[0mkwargs\u001b[0m\u001b[0;34m)\u001b[0m\u001b[0;34m\u001b[0m\u001b[0;34m\u001b[0m\u001b[0m\n",
      "\u001b[0;32m~/.pyenv/versions/3.7.2/envs/latest/lib/python3.7/site-packages/sksurv/util.py\u001b[0m in \u001b[0;36mcheck_y_survival\u001b[0;34m(y_or_event, allow_all_censored, *args)\u001b[0m\n\u001b[1;32m    145\u001b[0m     \u001b[0mevent\u001b[0m \u001b[0;34m=\u001b[0m \u001b[0mcheck_array\u001b[0m\u001b[0;34m(\u001b[0m\u001b[0my_event\u001b[0m\u001b[0;34m,\u001b[0m \u001b[0mensure_2d\u001b[0m\u001b[0;34m=\u001b[0m\u001b[0;32mFalse\u001b[0m\u001b[0;34m)\u001b[0m\u001b[0;34m\u001b[0m\u001b[0;34m\u001b[0m\u001b[0m\n\u001b[1;32m    146\u001b[0m     \u001b[0;32mif\u001b[0m \u001b[0;32mnot\u001b[0m \u001b[0mnumpy\u001b[0m\u001b[0;34m.\u001b[0m\u001b[0missubdtype\u001b[0m\u001b[0;34m(\u001b[0m\u001b[0mevent\u001b[0m\u001b[0;34m.\u001b[0m\u001b[0mdtype\u001b[0m\u001b[0;34m,\u001b[0m \u001b[0mnumpy\u001b[0m\u001b[0;34m.\u001b[0m\u001b[0mbool_\u001b[0m\u001b[0;34m)\u001b[0m\u001b[0;34m:\u001b[0m\u001b[0;34m\u001b[0m\u001b[0;34m\u001b[0m\u001b[0m\n\u001b[0;32m--> 147\u001b[0;31m         \u001b[0;32mraise\u001b[0m \u001b[0mValueError\u001b[0m\u001b[0;34m(\u001b[0m\u001b[0;34m'elements of event indicator must be boolean, but found {0}'\u001b[0m\u001b[0;34m.\u001b[0m\u001b[0mformat\u001b[0m\u001b[0;34m(\u001b[0m\u001b[0mevent\u001b[0m\u001b[0;34m.\u001b[0m\u001b[0mdtype\u001b[0m\u001b[0;34m)\u001b[0m\u001b[0;34m)\u001b[0m\u001b[0;34m\u001b[0m\u001b[0;34m\u001b[0m\u001b[0m\n\u001b[0m\u001b[1;32m    148\u001b[0m \u001b[0;34m\u001b[0m\u001b[0m\n\u001b[1;32m    149\u001b[0m     \u001b[0;32mif\u001b[0m \u001b[0;32mnot\u001b[0m \u001b[0;34m(\u001b[0m\u001b[0mallow_all_censored\u001b[0m \u001b[0;32mor\u001b[0m \u001b[0mnumpy\u001b[0m\u001b[0;34m.\u001b[0m\u001b[0many\u001b[0m\u001b[0;34m(\u001b[0m\u001b[0mevent\u001b[0m\u001b[0;34m)\u001b[0m\u001b[0;34m)\u001b[0m\u001b[0;34m:\u001b[0m\u001b[0;34m\u001b[0m\u001b[0;34m\u001b[0m\u001b[0m\n",
      "\u001b[0;31mValueError\u001b[0m: elements of event indicator must be boolean, but found int64"
     ]
    }
   ],
   "source": [
    "# Fit\n",
    "estimator = CoxPHSurvivalAnalysis(alpha=3, n_iter=100)\n",
    "estimator.fit(X_tr, y_tr)"
   ]
  },
  {
   "cell_type": "code",
   "execution_count": null,
   "metadata": {
    "ExecuteTime": {
     "end_time": "2019-12-24T08:33:36.003808Z",
     "start_time": "2019-12-24T08:33:19.260Z"
    }
   },
   "outputs": [],
   "source": [
    "# Plot survival\n",
    "plot_survival(estimator, X_val, n_plot=10)"
   ]
  },
  {
   "cell_type": "code",
   "execution_count": null,
   "metadata": {
    "ExecuteTime": {
     "end_time": "2019-12-24T08:33:36.005291Z",
     "start_time": "2019-12-24T08:33:19.262Z"
    }
   },
   "outputs": [],
   "source": [
    "max_price = X['Price'].values.max()\n",
    "min_price = X['Price'].values.min()"
   ]
  },
  {
   "cell_type": "code",
   "execution_count": null,
   "metadata": {
    "ExecuteTime": {
     "end_time": "2019-12-24T08:33:36.006827Z",
     "start_time": "2019-12-24T08:33:19.264Z"
    }
   },
   "outputs": [],
   "source": [
    "# Print one sample at index 10\n",
    "optimize_price(estimator, scaler, df_val.iloc[5], max_price, min_price)"
   ]
  },
  {
   "cell_type": "code",
   "execution_count": null,
   "metadata": {},
   "outputs": [],
   "source": []
  }
 ],
 "metadata": {
  "kernelspec": {
   "display_name": "Python 3",
   "language": "python",
   "name": "python3"
  },
  "language_info": {
   "codemirror_mode": {
    "name": "ipython",
    "version": 3
   },
   "file_extension": ".py",
   "mimetype": "text/x-python",
   "name": "python",
   "nbconvert_exporter": "python",
   "pygments_lexer": "ipython3",
   "version": "3.7.2"
  }
 },
 "nbformat": 4,
 "nbformat_minor": 2
}
